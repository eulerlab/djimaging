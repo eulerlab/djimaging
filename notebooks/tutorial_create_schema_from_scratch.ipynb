{
 "cells": [
  {
   "cell_type": "markdown",
   "metadata": {
    "collapsed": false,
    "pycharm": {
     "name": "#%% md\n"
    }
   },
   "source": [
    "# This is a demo that shows how tables are combined to create a schema"
   ]
  },
  {
   "cell_type": "code",
   "execution_count": null,
   "metadata": {},
   "outputs": [],
   "source": [
    "%load_ext autoreload\n",
    "%autoreload 2"
   ]
  },
  {
   "cell_type": "code",
   "execution_count": null,
   "metadata": {},
   "outputs": [],
   "source": [
    "import os\n",
    "import datajoint as dj\n",
    "\n",
    "your_config_file = '../djimaging/djconfig/djconf_template.json'  # WARNING: This will not work with the empty template\n",
    "\n",
    "assert os.path.isfile(your_config_file), 'File not found'\n",
    "\n",
    "# Load configuration for user\n",
    "dj.config.load(your_config_file)"
   ]
  },
  {
   "cell_type": "code",
   "execution_count": null,
   "metadata": {},
   "outputs": [],
   "source": [
    "assert \"database.user\" in dj.config, 'Set user name'"
   ]
  },
  {
   "cell_type": "code",
   "execution_count": null,
   "metadata": {},
   "outputs": [],
   "source": [
    "dj.config['schema_name'] = f'ageuler_{dj.config[\"database.user\"]}_test'"
   ]
  },
  {
   "cell_type": "code",
   "execution_count": null,
   "metadata": {},
   "outputs": [],
   "source": [
    "assert \"schema_name\" in dj.config, 'Set schema name'\n",
    "\n",
    "realusername = !whoami\n",
    "realusername = realusername[0]\n",
    "\n",
    "assert dj.config[\"database.user\"] == realusername, 'How are you?'\n",
    "assert dj.config[\"database.user\"] in dj.config[\"schema_name\"], 'Are you sure you want to connect to this DataBase'"
   ]
  },
  {
   "cell_type": "code",
   "execution_count": null,
   "metadata": {},
   "outputs": [],
   "source": [
    "dj.conn()"
   ]
  },
  {
   "cell_type": "code",
   "execution_count": null,
   "metadata": {},
   "outputs": [],
   "source": [
    "schema = dj.schema(dj.config[\"schema_name\"], locals())\n",
    "schema"
   ]
  },
  {
   "cell_type": "code",
   "execution_count": null,
   "metadata": {},
   "outputs": [],
   "source": [
    "schema.drop()"
   ]
  },
  {
   "cell_type": "code",
   "execution_count": null,
   "metadata": {},
   "outputs": [],
   "source": [
    "dj.conn()\n",
    "schema = dj.schema(dj.config[\"schema_name\"], locals())\n",
    "schema"
   ]
  },
  {
   "cell_type": "code",
   "execution_count": null,
   "metadata": {},
   "outputs": [],
   "source": [
    "from djimaging.core_tables import userinfo\n",
    "\n",
    "@schema\n",
    "class UserInfo(userinfo.UserInfo):\n",
    "    pass"
   ]
  },
  {
   "cell_type": "code",
   "execution_count": null,
   "metadata": {},
   "outputs": [],
   "source": [
    "dj.ERD(schema)"
   ]
  },
  {
   "cell_type": "code",
   "execution_count": null,
   "metadata": {},
   "outputs": [],
   "source": [
    "UserInfo()"
   ]
  },
  {
   "cell_type": "code",
   "execution_count": null,
   "metadata": {},
   "outputs": [],
   "source": [
    "from djimaging.core_tables import experiment\n",
    "\n",
    "@schema\n",
    "class Experiment(experiment.Experiment):\n",
    "    userinfo_table = UserInfo"
   ]
  },
  {
   "cell_type": "code",
   "execution_count": null,
   "metadata": {},
   "outputs": [],
   "source": [
    "erd = dj.ERD(schema)\n",
    "erd"
   ]
  },
  {
   "cell_type": "code",
   "execution_count": null,
   "metadata": {},
   "outputs": [],
   "source": [
    "from djimaging.core_tables import field\n",
    "\n",
    "@schema\n",
    "class Field(field.Field):\n",
    "    userinfo_table = UserInfo\n",
    "    experiment_table = Experiment\n",
    "\n",
    "@schema\n",
    "class Roi(field.Roi):\n",
    "    field_table = Field"
   ]
  },
  {
   "cell_type": "code",
   "execution_count": null,
   "metadata": {},
   "outputs": [],
   "source": [
    "dj.ERD(schema)"
   ]
  },
  {
   "cell_type": "code",
   "execution_count": null,
   "metadata": {},
   "outputs": [],
   "source": [
    "from djimaging.core_tables import stimulus\n",
    "\n",
    "@schema\n",
    "class Stimulus(stimulus.Stimulus):\n",
    "    pass\n",
    "\n",
    "@schema\n",
    "class Presentation(stimulus.Presentation):\n",
    "    experiment_table = Experiment\n",
    "    userinfo_table = UserInfo\n",
    "    field_table = Field\n",
    "    stimulus_table = Stimulus    "
   ]
  },
  {
   "cell_type": "code",
   "execution_count": null,
   "metadata": {},
   "outputs": [],
   "source": [
    "dj.ERD(schema)"
   ]
  },
  {
   "cell_type": "code",
   "execution_count": null,
   "metadata": {},
   "outputs": [],
   "source": [
    "from djimaging.core_tables import location\n",
    "\n",
    "@schema\n",
    "class RelativeFieldLocation(location.RelativeFieldLocation):\n",
    "    field_table = Field\n",
    "    expinfo_table = Experiment.ExpInfo\n",
    "\n",
    "@schema\n",
    "class RetinalFieldLocation(location.RetinalFieldLocation):\n",
    "    expinfo_table = Experiment.ExpInfo"
   ]
  },
  {
   "cell_type": "code",
   "execution_count": null,
   "metadata": {},
   "outputs": [],
   "source": [
    "dj.ERD(schema)"
   ]
  },
  {
   "cell_type": "code",
   "execution_count": null,
   "metadata": {},
   "outputs": [],
   "source": [
    "from djimaging.core_tables import traces\n",
    "\n",
    "@schema\n",
    "class Traces(traces.Traces):\n",
    "    presentation_table = Presentation\n",
    "    field_table = Field\n",
    "    roi_table = Roi\n",
    "\n",
    "@schema\n",
    "class DetrendParams(traces.DetrendParams):\n",
    "    pass\n",
    "\n",
    "@schema\n",
    "class DetrendTraces(traces.DetrendTraces):\n",
    "    presentation_table = Presentation\n",
    "    detrendparams_table = DetrendParams\n",
    "    traces_table = Traces\n",
    "\n",
    "@schema\n",
    "class DetrendSnippets(traces.DetrendSnippets):\n",
    "    stimulus_table = Stimulus\n",
    "    presentation_table = Presentation\n",
    "    traces_table = Traces\n",
    "    detrendtraces_table = DetrendTraces\n",
    "\n",
    "@schema\n",
    "class Averages(traces.Averages):\n",
    "    detrendsnippets_table = DetrendSnippets"
   ]
  },
  {
   "cell_type": "code",
   "execution_count": null,
   "metadata": {},
   "outputs": [],
   "source": [
    "dj.ERD(schema)"
   ]
  },
  {
   "cell_type": "code",
   "execution_count": null,
   "metadata": {},
   "outputs": [],
   "source": [
    "Averages()"
   ]
  },
  {
   "cell_type": "code",
   "execution_count": null,
   "metadata": {},
   "outputs": [],
   "source": []
  }
 ],
 "metadata": {
  "kernelspec": {
   "display_name": "Python 3",
   "language": "python",
   "name": "python3"
  },
  "language_info": {
   "codemirror_mode": {
    "name": "ipython",
    "version": 3
   },
   "file_extension": ".py",
   "mimetype": "text/x-python",
   "name": "python",
   "nbconvert_exporter": "python",
   "pygments_lexer": "ipython3",
   "version": "3.7.5"
  }
 },
 "nbformat": 4,
 "nbformat_minor": 4
}
