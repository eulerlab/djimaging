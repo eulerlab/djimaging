{
 "cells": [
  {
   "cell_type": "code",
   "execution_count": null,
   "metadata": {},
   "outputs": [],
   "source": [
    "%load_ext autoreload\n",
    "%autoreload 2"
   ]
  },
  {
   "cell_type": "markdown",
   "metadata": {},
   "source": [
    "# Create database"
   ]
  },
  {
   "cell_type": "code",
   "execution_count": null,
   "metadata": {},
   "outputs": [],
   "source": [
    "username = !whoami\n",
    "username = username[0]\n",
    "username"
   ]
  },
  {
   "cell_type": "code",
   "execution_count": null,
   "metadata": {},
   "outputs": [],
   "source": [
    "import os\n",
    "import datajoint as dj\n",
    "\n",
    "config_file = f'/gpfs01/berens/user/{username}/datajoint/dj_{username}_conf.json'\n",
    "\n",
    "assert os.path.isfile(config_file), 'Set the path to your config file'"
   ]
  },
  {
   "cell_type": "code",
   "execution_count": null,
   "metadata": {},
   "outputs": [],
   "source": [
    "os.environ[\"DJ_SUPPORT_FILEPATH_MANAGEMENT\"] = \"TRUE\""
   ]
  },
  {
   "cell_type": "code",
   "execution_count": null,
   "metadata": {},
   "outputs": [],
   "source": [
    "# Define a schema name or use the default name for your personal test schema\n",
    "schema_name = f\"ageuler_{username}_test\""
   ]
  },
  {
   "cell_type": "code",
   "execution_count": null,
   "metadata": {},
   "outputs": [],
   "source": [
    "# Load configuration for user\n",
    "dj.config.load(config_file)\n",
    "dj.config['schema_name'] = schema_name\n",
    "dj.config['enable_python_native_blobs'] = True\n",
    "dj.config['stores'] = {\"classifier\": {\"protocol\": \"file\", \"location\": \"/gpfs01/euler/data/Resources/Classifier\", \"stage\": \"/gpfs01/euler/data/Resources/Classifier\"}}\n",
    "print(\"schema_name:\", dj.config['schema_name'])\n",
    "dj.conn()"
   ]
  },
  {
   "cell_type": "code",
   "execution_count": null,
   "metadata": {},
   "outputs": [],
   "source": [
    "if not os.path.isdir(dj.config['stores']['classifier']['stage']):\n",
    "    raise FileNotFoundError('You need access to the classifier stage')"
   ]
  },
  {
   "cell_type": "code",
   "execution_count": null,
   "metadata": {},
   "outputs": [],
   "source": [
    "if not os.path.isdir(dj.config['stores']['classifier']['location']):\n",
    "    raise FileNotFoundError('You need access to the classifier location')"
   ]
  },
  {
   "cell_type": "code",
   "execution_count": null,
   "metadata": {},
   "outputs": [],
   "source": [
    "from djimaging.schemas.core_schema import *\n",
    "from djimaging.schemas.core_plus_optional_schema import *\n",
    "from djimaging.schemas.rgc_classifier_schema import *"
   ]
  },
  {
   "cell_type": "code",
   "execution_count": null,
   "metadata": {},
   "outputs": [],
   "source": [
    "from djimaging.utils.dj_utils import activate_schema\n",
    "\n",
    "activate_schema(schema=schema, create_schema=True, create_tables=True)\n",
    "schema"
   ]
  },
  {
   "cell_type": "code",
   "execution_count": null,
   "metadata": {},
   "outputs": [],
   "source": [
    "from djimaging.tables.optional import rgc_classifier"
   ]
  },
  {
   "cell_type": "code",
   "execution_count": null,
   "metadata": {},
   "outputs": [],
   "source": [
    "dj.ERD(schema)"
   ]
  },
  {
   "cell_type": "markdown",
   "metadata": {},
   "source": [
    "# Add classifier method"
   ]
  },
  {
   "cell_type": "code",
   "execution_count": null,
   "metadata": {},
   "outputs": [],
   "source": [
    "if len(ClassifierMethod()) == 0:\n",
    "    classifier_fn = \"sklearn.ensemble.RandomForestClassifier\"\n",
    "    classifier_config=dict(\n",
    "        n_estimators=3000,\n",
    "        class_weight=\"balanced\",\n",
    "        oob_score=True,\n",
    "        n_jobs=12,\n",
    "        random_state=0)\n",
    "\n",
    "    ClassifierMethod().add_classifer(\n",
    "        classifier_config=classifier_config,\n",
    "        classifier_fn=classifier_fn, comment=\"test\")"
   ]
  },
  {
   "cell_type": "code",
   "execution_count": null,
   "metadata": {},
   "outputs": [],
   "source": [
    "ClassifierMethod()"
   ]
  },
  {
   "cell_type": "markdown",
   "metadata": {},
   "source": [
    "# Add training data"
   ]
  },
  {
   "cell_type": "code",
   "execution_count": null,
   "metadata": {},
   "outputs": [],
   "source": [
    "classifier_data_path = '/gpfs01/euler/data/Resources/Classifier/'\n",
    "os.listdir(classifier_data_path)"
   ]
  },
  {
   "cell_type": "code",
   "execution_count": null,
   "metadata": {},
   "outputs": [],
   "source": [
    "if len(ClassifierTrainingData()) == 0:\n",
    "    ClassifierTrainingData().add_trainingdata(\n",
    "        project=\"False\",\n",
    "        output_path=f'/gpfs01/berens/user/{username}/euler/datajoint/classifier',\n",
    "        chirp_feats_file=classifier_data_path+'chirp_feats.npz',\n",
    "        bar_feats_file=classifier_data_path+'bar_feats.npz',\n",
    "        baden_data_file=classifier_data_path+'RGCData_postprocessed.mat',\n",
    "        training_data_file=classifier_data_path+'training_all.pkl',\n",
    "    )\n",
    "ClassifierTrainingData()"
   ]
  },
  {
   "cell_type": "markdown",
   "metadata": {},
   "source": [
    "# Make sure data is loaded to the DataBase"
   ]
  },
  {
   "cell_type": "code",
   "execution_count": null,
   "metadata": {},
   "outputs": [],
   "source": [
    "userinfo = {\n",
    "    'experimenter': 'DataJointTestData', # Replace this if you want to use your own data\n",
    "    'data_dir': '/gpfs01/euler/data/Data/DataJointTestData/', # Replace this if you want to use your own data\n",
    "    'datatype_loc': 0,\n",
    "    'animal_loc': 1,\n",
    "    'region_loc': 2,\n",
    "    'field_loc': 3,\n",
    "    'stimulus_loc': 4,\n",
    "    'condition_loc': 5,\n",
    "}\n",
    "\n",
    "assert os.path.isdir(userinfo['data_dir'])"
   ]
  },
  {
   "cell_type": "code",
   "execution_count": null,
   "metadata": {},
   "outputs": [],
   "source": [
    "UserInfo().upload_user(userinfo)\n",
    "UserInfo()"
   ]
  },
  {
   "cell_type": "code",
   "execution_count": null,
   "metadata": {},
   "outputs": [],
   "source": [
    "Experiment().rescan_filesystem(verboselvl=0)\n",
    "Experiment()"
   ]
  },
  {
   "cell_type": "code",
   "execution_count": null,
   "metadata": {},
   "outputs": [],
   "source": [
    "Field().rescan_filesystem(verboselvl=0)\n",
    "Field()"
   ]
  },
  {
   "cell_type": "code",
   "execution_count": null,
   "metadata": {},
   "outputs": [],
   "source": [
    "Roi().populate()\n",
    "Roi()"
   ]
  },
  {
   "cell_type": "code",
   "execution_count": null,
   "metadata": {},
   "outputs": [],
   "source": [
    "Field().populate()"
   ]
  },
  {
   "cell_type": "code",
   "execution_count": null,
   "metadata": {},
   "outputs": [],
   "source": [
    "Stimulus().add_nostim(skip_duplicates=True)\n",
    "Stimulus().add_chirp(spatialextent=1000, stim_name='gChirp', alias=\"chirp_gchirp_globalchirp\", skip_duplicates=True)\n",
    "Stimulus().add_chirp(spatialextent=300, stim_name='lChirp', alias=\"lchirp_localchirp\", skip_duplicates=True)\n",
    "Stimulus().add_noise(stim_name='noise', pix_n_x=20, pix_n_y=15, pix_scale_x_um=30, pix_scale_y_um=30, skip_duplicates=True)\n",
    "Stimulus().add_movingbar(skip_duplicates=True)"
   ]
  },
  {
   "cell_type": "code",
   "execution_count": null,
   "metadata": {},
   "outputs": [],
   "source": [
    "Presentation().populate()\n",
    "Presentation()"
   ]
  },
  {
   "cell_type": "code",
   "execution_count": null,
   "metadata": {},
   "outputs": [],
   "source": [
    "Traces().populate()\n",
    "Traces()"
   ]
  },
  {
   "cell_type": "code",
   "execution_count": null,
   "metadata": {},
   "outputs": [],
   "source": [
    "PreprocessParams().add_default(skip_duplicates=True)\n",
    "PreprocessParams()"
   ]
  },
  {
   "cell_type": "code",
   "execution_count": null,
   "metadata": {},
   "outputs": [],
   "source": [
    "PreprocessTraces().populate(display_progress=True)\n",
    "PreprocessTraces()"
   ]
  },
  {
   "cell_type": "code",
   "execution_count": null,
   "metadata": {},
   "outputs": [],
   "source": [
    "Snippets().populate(display_progress=True)\n",
    "Snippets()"
   ]
  },
  {
   "cell_type": "markdown",
   "metadata": {},
   "source": [
    "# Add ClassifierSeed and CellFilterParameters\n",
    "if not already added"
   ]
  },
  {
   "cell_type": "code",
   "execution_count": null,
   "metadata": {},
   "outputs": [],
   "source": [
    "if len(ClassifierSeed()) == 0:\n",
    "    ClassifierSeed().insert1(dict(classifier_seed=8732))\n",
    "ClassifierSeed()"
   ]
  },
  {
   "cell_type": "code",
   "execution_count": null,
   "metadata": {},
   "outputs": [],
   "source": [
    "if len(CellFilterParameters()) == 0:\n",
    "    CellFilterParameters().add_parameters(qi_thres_chirp=0.35, qi_thres_bar=0.6, cell_selection_constraint=\"or\")\n",
    "CellFilterParameters()"
   ]
  },
  {
   "cell_type": "markdown",
   "metadata": {},
   "source": [
    "# Train classifier"
   ]
  },
  {
   "cell_type": "code",
   "execution_count": null,
   "metadata": {},
   "outputs": [],
   "source": [
    "Classifier().populate()"
   ]
  },
  {
   "cell_type": "code",
   "execution_count": null,
   "metadata": {},
   "outputs": [],
   "source": [
    "Classifier()"
   ]
  },
  {
   "cell_type": "markdown",
   "metadata": {},
   "source": [
    "# Populate CelltypeAssignment"
   ]
  },
  {
   "cell_type": "code",
   "execution_count": null,
   "metadata": {},
   "outputs": [],
   "source": [
    "pred_groups = CelltypeAssignment().fetch(\"predicted_group\")"
   ]
  },
  {
   "cell_type": "code",
   "execution_count": null,
   "metadata": {},
   "outputs": [],
   "source": [
    "sum(pred_groups>=0)"
   ]
  },
  {
   "cell_type": "code",
   "execution_count": null,
   "metadata": {},
   "outputs": [],
   "source": [
    "from datetime import datetime\n",
    "now = datetime.now()\n",
    "date_time = now.strftime(\"%Y%m%d, %H:%M:%S\")\n",
    "print(\"date and time:\",date_time)"
   ]
  },
  {
   "cell_type": "code",
   "execution_count": null,
   "metadata": {},
   "outputs": [],
   "source": [
    "CelltypeAssignment().fetch(\"date\")[0].strftime(\"%Y%m%d\")"
   ]
  },
  {
   "cell_type": "code",
   "execution_count": null,
   "metadata": {},
   "outputs": [],
   "source": [
    "#CelltypeAssignment().proj(neuron_id ='\"_\".join([date.replace(\"-\", \"\"),exp_num, field_id, roi_id, s, str(5)])')\n",
    "CelltypeAssignment().proj(date_str ='date.strftime(\"%Y%m%d\")')"
   ]
  },
  {
   "cell_type": "code",
   "execution_count": null,
   "metadata": {},
   "outputs": [],
   "source": [
    "CelltypeAssignment().proj(neuron_id ='CONCAT_WS(\"_\", DATE_FORMAT(date, GET_FORMAT(DATE,\"INTERNAL\")), exp_num, field_id, roi_id, \"s\", \"5\")')"
   ]
  },
  {
   "cell_type": "code",
   "execution_count": null,
   "metadata": {},
   "outputs": [],
   "source": [
    "CelltypeAssignment().proj(test ='DATE_SUB(date,INTERVAL 1 YEAR)')"
   ]
  },
  {
   "cell_type": "code",
   "execution_count": null,
   "metadata": {},
   "outputs": [],
   "source": [
    "ClassifierTrainingData()"
   ]
  },
  {
   "cell_type": "code",
   "execution_count": null,
   "metadata": {},
   "outputs": [],
   "source": [
    "ClassifierTrainingData().drop()"
   ]
  }
 ],
 "metadata": {
  "kernelspec": {
   "display_name": "Python 3 (ipykernel)",
   "language": "python",
   "name": "python3"
  },
  "language_info": {
   "codemirror_mode": {
    "name": "ipython",
    "version": 3
   },
   "file_extension": ".py",
   "mimetype": "text/x-python",
   "name": "python",
   "nbconvert_exporter": "python",
   "pygments_lexer": "ipython3",
   "version": "3.8.10"
  }
 },
 "nbformat": 4,
 "nbformat_minor": 4
}
