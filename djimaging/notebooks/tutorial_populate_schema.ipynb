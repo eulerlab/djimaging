{
 "cells": [
  {
   "cell_type": "markdown",
   "metadata": {},
   "source": [
    "# Readme\n",
    "This is a demo notebook that shows how the core schema is loaded and how to add data\n",
    "\n",
    "If you have not installed `djimaging`, please go to project directory and install it via `pip install --editable .`."
   ]
  },
  {
   "cell_type": "code",
   "execution_count": null,
   "metadata": {},
   "outputs": [],
   "source": [
    "%load_ext autoreload\n",
    "%autoreload 2"
   ]
  },
  {
   "cell_type": "markdown",
   "metadata": {},
   "source": [
    "# Data Base"
   ]
  },
  {
   "cell_type": "markdown",
   "metadata": {},
   "source": [
    "## Prepare dj config"
   ]
  },
  {
   "cell_type": "code",
   "execution_count": null,
   "metadata": {
    "collapsed": false,
    "jupyter": {
     "outputs_hidden": false
    }
   },
   "outputs": [],
   "source": [
    "import os\n",
    "import datajoint as dj"
   ]
  },
  {
   "cell_type": "code",
   "execution_count": null,
   "metadata": {},
   "outputs": [],
   "source": [
    "username = !whoami\n",
    "username = username[0]\n",
    "username"
   ]
  },
  {
   "cell_type": "code",
   "execution_count": null,
   "metadata": {
    "collapsed": false,
    "jupyter": {
     "outputs_hidden": false
    }
   },
   "outputs": [],
   "source": [
    "home_directory = os.path.expanduser(\"~\")\n",
    "home_directory"
   ]
  },
  {
   "cell_type": "code",
   "execution_count": null,
   "metadata": {},
   "outputs": [],
   "source": [
    "# Set config file\n",
    "config_file = f'{home_directory}/datajoint/dj_{username}_conf.json'\n",
    "assert os.path.isfile(config_file), f'Set the path to your config file: {config_file}'"
   ]
  },
  {
   "cell_type": "code",
   "execution_count": null,
   "metadata": {},
   "outputs": [],
   "source": [
    "# Define a schema name or use the default name for your personal test schema\n",
    "# It should start with ageuler and have some meaningful name after that\n",
    "schema_name = f\"ageuler_{username}_test\""
   ]
  },
  {
   "cell_type": "code",
   "execution_count": null,
   "metadata": {},
   "outputs": [],
   "source": [
    "# Load configuration for user\n",
    "dj.config.load(config_file)\n",
    "dj.config['schema_name'] = schema_name\n",
    "print(\"schema_name:\", dj.config['schema_name'])\n",
    "dj.conn()"
   ]
  },
  {
   "cell_type": "markdown",
   "metadata": {},
   "source": [
    "## Create or load schema"
   ]
  },
  {
   "cell_type": "code",
   "execution_count": null,
   "metadata": {},
   "outputs": [],
   "source": [
    "from djimaging.schemas.core_schema import *"
   ]
  },
  {
   "cell_type": "code",
   "execution_count": null,
   "metadata": {},
   "outputs": [],
   "source": [
    "from djimaging.utils.dj_utils import activate_schema\n",
    "\n",
    "activate_schema(schema=schema, create_schema=True, create_tables=True)\n",
    "schema"
   ]
  },
  {
   "cell_type": "code",
   "execution_count": null,
   "metadata": {},
   "outputs": [],
   "source": [
    "# Draw the ERD of your schema, this may take a while\n",
    "import warnings\n",
    "warnings.simplefilter(action='ignore', category=FutureWarning)\n",
    "\n",
    "dj.ERD(schema)"
   ]
  },
  {
   "cell_type": "markdown",
   "metadata": {},
   "source": [
    "## Upload user"
   ]
  },
  {
   "cell_type": "code",
   "execution_count": null,
   "metadata": {},
   "outputs": [],
   "source": [
    "userinfo = {\n",
    "    'experimenter': 'DataJointTestData', # Replace this if you want to use your own data\n",
    "    'data_dir': '/gpfs01/euler/data/Data/DataJointTestData/', # Replace this if you want to use your own data\n",
    "    'datatype_loc': 0,\n",
    "    'animal_loc': 1,\n",
    "    'region_loc': 2,\n",
    "    'field_loc': 3,\n",
    "    'stimulus_loc': 4,\n",
    "    'condition_loc': 5,\n",
    "}\n",
    "\n",
    "assert os.path.isdir(userinfo['data_dir'])"
   ]
  },
  {
   "cell_type": "code",
   "execution_count": null,
   "metadata": {},
   "outputs": [],
   "source": [
    "UserInfo().upload_user(userinfo)\n",
    "UserInfo()"
   ]
  },
  {
   "cell_type": "code",
   "execution_count": null,
   "metadata": {},
   "outputs": [],
   "source": [
    "# Plot the data files in the selected folder\n",
    "UserInfo().plot1(key=UserInfo().fetch(as_dict=True)[0], show_pre=False, show_raw=False, show_header=True)"
   ]
  },
  {
   "cell_type": "markdown",
   "metadata": {},
   "source": [
    "## Populate data"
   ]
  },
  {
   "cell_type": "markdown",
   "metadata": {},
   "source": [
    "### Experiments"
   ]
  },
  {
   "cell_type": "code",
   "execution_count": null,
   "metadata": {},
   "outputs": [],
   "source": [
    "# Before scan\n",
    "Experiment()"
   ]
  },
  {
   "cell_type": "code",
   "execution_count": null,
   "metadata": {},
   "outputs": [],
   "source": [
    "Experiment().rescan_filesystem(verboselvl=2)"
   ]
  },
  {
   "cell_type": "code",
   "execution_count": null,
   "metadata": {},
   "outputs": [],
   "source": [
    "# After scan\n",
    "Experiment()"
   ]
  },
  {
   "cell_type": "markdown",
   "metadata": {},
   "source": [
    "### Fields"
   ]
  },
  {
   "cell_type": "code",
   "execution_count": null,
   "metadata": {},
   "outputs": [],
   "source": [
    "# Before scan\n",
    "Field()"
   ]
  },
  {
   "cell_type": "code",
   "execution_count": null,
   "metadata": {},
   "outputs": [],
   "source": [
    "Field().rescan_filesystem(verboselvl=2)"
   ]
  },
  {
   "cell_type": "code",
   "execution_count": null,
   "metadata": {},
   "outputs": [],
   "source": [
    "# After scan\n",
    "Field()"
   ]
  },
  {
   "cell_type": "code",
   "execution_count": null,
   "metadata": {},
   "outputs": [],
   "source": [
    "# If you call plot1 on a djimaging table, it will plot the given key.\n",
    "# If you pass key=None or no key it will pick a key at random.\n",
    "# This is implemented for most core tables and can be useful to get a quick impression of the data.\n",
    "Field().plot1(key=None)"
   ]
  },
  {
   "cell_type": "markdown",
   "metadata": {},
   "source": [
    "#### Rois"
   ]
  },
  {
   "cell_type": "code",
   "execution_count": null,
   "metadata": {},
   "outputs": [],
   "source": [
    "Roi().populate()\n",
    "Roi()"
   ]
  },
  {
   "cell_type": "code",
   "execution_count": null,
   "metadata": {},
   "outputs": [],
   "source": [
    "Roi().plot1()"
   ]
  },
  {
   "cell_type": "markdown",
   "metadata": {},
   "source": [
    "### Stimuli"
   ]
  },
  {
   "cell_type": "markdown",
   "metadata": {},
   "source": [
    "#### Add default stimuli"
   ]
  },
  {
   "cell_type": "code",
   "execution_count": null,
   "metadata": {},
   "outputs": [],
   "source": [
    "Stimulus()"
   ]
  },
  {
   "cell_type": "code",
   "execution_count": null,
   "metadata": {
    "collapsed": false,
    "jupyter": {
     "outputs_hidden": false
    }
   },
   "outputs": [],
   "source": [
    "# To compute receptive fields, the noise stimulus trace must be loaded and set!\n",
    "\n",
    "import h5py\n",
    "import numpy as np\n",
    "\n",
    "with h5py.File(\"/gpfs01/euler/data/Resources/Stimulus/noise.h5\", \"r\") as f:\n",
    "    noise_stimulus = f['stimulusarray'][:].T.astype(int)"
   ]
  },
  {
   "cell_type": "code",
   "execution_count": null,
   "metadata": {},
   "outputs": [],
   "source": [
    "Stimulus().add_nostim(skip_duplicates=True)\n",
    "Stimulus().add_chirp(spatialextent=1000, stim_name='gChirp', alias=\"chirp_gchirp_globalchirp\", skip_duplicates=True)\n",
    "Stimulus().add_chirp(spatialextent=300, stim_name='lChirp', alias=\"lchirp_localchirp\", skip_duplicates=True)\n",
    "Stimulus().add_noise(stim_name='noise', pix_n_x=20, pix_n_y=15, pix_scale_x_um=30, pix_scale_y_um=30, stim_trace=noise_stimulus, skip_duplicates=True)\n",
    "Stimulus().add_movingbar(skip_duplicates=True)"
   ]
  },
  {
   "cell_type": "code",
   "execution_count": null,
   "metadata": {},
   "outputs": [],
   "source": [
    "Stimulus()"
   ]
  },
  {
   "cell_type": "markdown",
   "metadata": {},
   "source": [
    "#### Add custom stimuli"
   ]
  },
  {
   "cell_type": "code",
   "execution_count": null,
   "metadata": {},
   "outputs": [],
   "source": [
    "# Replace this with your own stimulus or remove it\n",
    "\n",
    "def add_cricket(stimulus_table, bkg_color: int, bar_color: int, skip_duplicates=False):\n",
    "\n",
    "    stim_name = f'cricket{bkg_color}'\n",
    "    stim_family = 'cricket'\n",
    "    alias = f\"c{bkg_color}_cricket{bkg_color}\"\n",
    "\n",
    "    framerate = 1 / 60.\n",
    "\n",
    "    stim_dict = {\n",
    "        \"nTrials\": 5,\n",
    "        \"tMoveDur_s\": 3.0,  # duration of movement (-> traveled distance)\n",
    "        \"barDx_um\": 75.0,  # \"cricket\" dimensions in um (Johnson et al., 2021)\n",
    "        \"barDy_um\": 195.0,\n",
    "        \"vel_umSec\": 650.0,  # speed of \"cricket\" in um/sec\n",
    "        \"bkgColor\": (bkg_color, bkg_color, bkg_color),\n",
    "        \"barColor\": (bar_color, bar_color, bar_color),\n",
    "        \"durFr_s\": 1 / 60.0,\n",
    "        \"nFrPerMarker\": 3,\n",
    "    }\n",
    "\n",
    "    trial_info = np.array([0, 180, 45, 225, 90, 270, 135, 315])\n",
    "\n",
    "    stimulus_table.add_stimulus(\n",
    "        stim_name=stim_name, stim_family=stim_family, alias=alias, framerate=framerate,\n",
    "        isrepeated=True, ntrigger_rep=1,\n",
    "        stim_dict=stim_dict, trial_info=trial_info,\n",
    "        skip_duplicates=skip_duplicates, unique_alias=True)"
   ]
  },
  {
   "cell_type": "code",
   "execution_count": null,
   "metadata": {},
   "outputs": [],
   "source": [
    "for bkg_color_ in [63, 127, 255]:\n",
    "    add_cricket(Stimulus(), bkg_color=bkg_color_, bar_color=0, skip_duplicates=True)"
   ]
  },
  {
   "cell_type": "code",
   "execution_count": null,
   "metadata": {},
   "outputs": [],
   "source": [
    "Stimulus()"
   ]
  },
  {
   "cell_type": "markdown",
   "metadata": {},
   "source": [
    "#### Presentations"
   ]
  },
  {
   "cell_type": "code",
   "execution_count": null,
   "metadata": {},
   "outputs": [],
   "source": [
    "Presentation().populate()"
   ]
  },
  {
   "cell_type": "code",
   "execution_count": null,
   "metadata": {},
   "outputs": [],
   "source": [
    "Presentation()"
   ]
  },
  {
   "cell_type": "code",
   "execution_count": null,
   "metadata": {},
   "outputs": [],
   "source": [
    "Presentation().plot1(key=None)"
   ]
  },
  {
   "cell_type": "markdown",
   "metadata": {},
   "source": [
    "### Traces"
   ]
  },
  {
   "cell_type": "code",
   "execution_count": null,
   "metadata": {},
   "outputs": [],
   "source": [
    "Traces().populate()\n",
    "Traces()"
   ]
  },
  {
   "cell_type": "code",
   "execution_count": null,
   "metadata": {},
   "outputs": [],
   "source": [
    "PreprocessParams().add_default(skip_duplicates=True)\n",
    "PreprocessParams()"
   ]
  },
  {
   "cell_type": "code",
   "execution_count": null,
   "metadata": {},
   "outputs": [],
   "source": [
    "PreprocessTraces().populate(display_progress=True)\n",
    "PreprocessTraces()"
   ]
  },
  {
   "cell_type": "code",
   "execution_count": null,
   "metadata": {},
   "outputs": [],
   "source": [
    "PreprocessTraces().plot1()"
   ]
  },
  {
   "cell_type": "code",
   "execution_count": null,
   "metadata": {},
   "outputs": [],
   "source": [
    "Snippets().populate(display_progress=True)\n",
    "Snippets()"
   ]
  },
  {
   "cell_type": "code",
   "execution_count": null,
   "metadata": {},
   "outputs": [],
   "source": [
    "Snippets().plot1()"
   ]
  },
  {
   "cell_type": "code",
   "execution_count": null,
   "metadata": {},
   "outputs": [],
   "source": [
    "Averages().populate(display_progress=True)\n",
    "Averages()"
   ]
  },
  {
   "cell_type": "code",
   "execution_count": null,
   "metadata": {},
   "outputs": [],
   "source": [
    "Averages().plot1()"
   ]
  },
  {
   "cell_type": "code",
   "execution_count": null,
   "outputs": [],
   "source": [
    "Averages().plot({\"stim_name\": \"gChirp\"})"
   ],
   "metadata": {
    "collapsed": false
   }
  }
 ],
 "metadata": {
  "kernelspec": {
   "display_name": "Python 3 (ipykernel)",
   "language": "python",
   "name": "python3"
  },
  "language_info": {
   "codemirror_mode": {
    "name": "ipython",
    "version": 3
   },
   "file_extension": ".py",
   "mimetype": "text/x-python",
   "name": "python",
   "nbconvert_exporter": "python",
   "pygments_lexer": "ipython3",
   "version": "3.8.10"
  }
 },
 "nbformat": 4,
 "nbformat_minor": 4
}
