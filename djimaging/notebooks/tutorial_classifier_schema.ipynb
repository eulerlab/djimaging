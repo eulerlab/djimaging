{
 "cells": [
  {
   "cell_type": "markdown",
   "source": [
    "# Readme\n",
    "\n",
    "This is a tutorial on the RGC classifier.\n",
    "This tutorial includes some default values used for the classifier.\n",
    "\n",
    "It will create a schema based on the schema in `djimaging.schemas.rgc_classifier_schema`.\n",
    "However, in practice, it's better to define your own schema within your own user, as in `tutorial_my_schema.iypnb`.\n",
    "Then you can modify the schema as you wish and e.g. include the RGC classifier."
   ],
   "metadata": {
    "collapsed": false
   }
  },
  {
   "cell_type": "markdown",
   "source": [
    "# Imports"
   ],
   "metadata": {
    "collapsed": false
   }
  },
  {
   "cell_type": "code",
   "execution_count": null,
   "metadata": {},
   "outputs": [],
   "source": [
    "%load_ext autoreload\n",
    "%autoreload 2"
   ]
  },
  {
   "cell_type": "code",
   "execution_count": null,
   "metadata": {},
   "outputs": [],
   "source": [
    "import os\n",
    "import datajoint as dj"
   ]
  },
  {
   "cell_type": "markdown",
   "source": [
    "# Create database"
   ],
   "metadata": {
    "collapsed": false
   }
  },
  {
   "cell_type": "code",
   "execution_count": null,
   "metadata": {},
   "outputs": [],
   "source": [
    "username = !whoami\n",
    "username = username[0]\n",
    "username"
   ]
  },
  {
   "cell_type": "code",
   "execution_count": null,
   "metadata": {},
   "outputs": [],
   "source": [
    "home_directory = os.path.expanduser(\"~\")\n",
    "home_directory"
   ]
  },
  {
   "cell_type": "code",
   "execution_count": null,
   "metadata": {},
   "outputs": [],
   "source": [
    "# Set config file\n",
    "config_file = f'{home_directory}/datajoint/dj_{username}_conf.json'\n",
    "assert os.path.isfile(config_file), f'Set the path to your config file: {config_file}'"
   ]
  },
  {
   "cell_type": "code",
   "execution_count": null,
   "metadata": {},
   "outputs": [],
   "source": [
    "# Define a schema name or use the default name for your personal test schema\n",
    "schema_name = f\"ageuler_{username}_test\""
   ]
  },
  {
   "cell_type": "code",
   "execution_count": null,
   "metadata": {},
   "outputs": [],
   "source": [
    "output_folder = f'{home_directory}/datajoint/rgc_classifier'\n",
    "assert os.path.isdir(output_folder), f'Set path to output directory: {output_folder}'"
   ]
  },
  {
   "cell_type": "code",
   "execution_count": null,
   "metadata": {},
   "outputs": [],
   "source": [
    "from djimaging.tables.classifier.rgc_classifier import prepare_dj_config_rgc_classifier\n",
    "\n",
    "# Load configuration for user\n",
    "dj.config.load(config_file)\n",
    "dj.config['schema_name'] = schema_name\n",
    "\n",
    "prepare_dj_config_rgc_classifier(output_folder)\n",
    "\n",
    "print(\"schema_name:\", dj.config['schema_name'])\n",
    "dj.conn()"
   ]
  },
  {
   "cell_type": "code",
   "execution_count": null,
   "metadata": {},
   "outputs": [],
   "source": [
    "from djimaging.schemas.rgc_classifier_schema import *"
   ]
  },
  {
   "cell_type": "markdown",
   "source": [
    "## Important note\n",
    "\n",
    "If the schema with the name `schema_name = f\"ageuler_{username}_test\"` already exists, it is important that the schema definition here is the same as it was when the schema was created.\n",
    "If you did the other tutorial first, and did not delete (=drop) the schema afterwards, this will not be the case, for example.\n",
    "Then you already have a schema with the same name but different tables, the first being based on the schema `my_schema`, and this one being based on `rgc_classifier_schema`. This can result in a variety of problems, so you either have to change the schema name here or drop the old schema first.\n",
    "\n",
    "Outside of this tutorial, in most cases, you want exactly one schema per project to never run into this problem."
   ],
   "metadata": {
    "collapsed": false
   }
  },
  {
   "cell_type": "code",
   "execution_count": null,
   "metadata": {},
   "outputs": [],
   "source": [
    "from djimaging.utils.dj_utils import activate_schema\n",
    "\n",
    "activate_schema(schema=schema, create_schema=True, create_tables=True)\n",
    "schema"
   ]
  },
  {
   "cell_type": "code",
   "execution_count": null,
   "metadata": {},
   "outputs": [],
   "source": [
    "# Draw the ERD of your schema, this may take a while\n",
    "import warnings\n",
    "\n",
    "warnings.simplefilter(action='ignore', category=FutureWarning)\n",
    "\n",
    "dj.ERD(schema)"
   ]
  },
  {
   "cell_type": "markdown",
   "source": [
    "# Classifier"
   ],
   "metadata": {
    "collapsed": false
   }
  },
  {
   "cell_type": "markdown",
   "metadata": {},
   "source": [
    "## Add classifier method"
   ]
  },
  {
   "cell_type": "code",
   "execution_count": null,
   "metadata": {},
   "outputs": [],
   "source": [
    "classifier_fn = \"sklearn.ensemble.RandomForestClassifier\"\n",
    "classifier_config = {\n",
    "    'class_weight': 'balanced',\n",
    "    'random_state': 2001,\n",
    "    'oob_score': True,\n",
    "    'ccp_alpha': 0.00021870687842726034,\n",
    "    'max_depth': 50,\n",
    "    'max_leaf_nodes': None,\n",
    "    'min_impurity_decrease': 0,\n",
    "    'n_estimators': 1000,\n",
    "    'n_jobs': 20,\n",
    "}\n",
    "\n",
    "ClassifierMethod().add_classifier(\n",
    "    classifier_config=classifier_config,\n",
    "    classifier_fn=classifier_fn, comment=\"test\", skip_duplicates=True)"
   ]
  },
  {
   "cell_type": "code",
   "execution_count": null,
   "metadata": {},
   "outputs": [],
   "source": [
    "ClassifierMethod()"
   ]
  },
  {
   "cell_type": "markdown",
   "metadata": {},
   "source": [
    "## Add training data"
   ]
  },
  {
   "cell_type": "code",
   "execution_count": null,
   "metadata": {},
   "outputs": [],
   "source": [
    "ipath = dj.config['stores'][\"classifier_input\"][\"location\"] + '/'\n",
    "opath = dj.config['stores'][\"classifier_output\"][\"location\"] + '/'\n",
    "\n",
    "ClassifierTrainingData().add_trainingdata(\n",
    "    project=\"False\",\n",
    "    output_path=opath,\n",
    "    chirp_feats_file=ipath + 'chirp_feats.npz',\n",
    "    bar_feats_file=ipath + 'bar_feats.npz',\n",
    "    baden_data_file=ipath + 'RGCData_postprocessed.mat',\n",
    "    training_data_file=ipath + 'training_all.pkl',\n",
    "    skip_duplicates=True,\n",
    ")\n",
    "ClassifierTrainingData()"
   ]
  },
  {
   "cell_type": "markdown",
   "metadata": {},
   "source": [
    "## Train classifier"
   ]
  },
  {
   "cell_type": "code",
   "execution_count": null,
   "metadata": {},
   "outputs": [],
   "source": [
    "Classifier().populate()\n",
    "Classifier()"
   ]
  },
  {
   "cell_type": "markdown",
   "source": [
    "# Load your data into DataBase"
   ],
   "metadata": {
    "collapsed": false
   }
  },
  {
   "cell_type": "markdown",
   "source": [
    "## Define which data and how to load data"
   ],
   "metadata": {
    "collapsed": false
   }
  },
  {
   "cell_type": "code",
   "execution_count": null,
   "outputs": [],
   "source": [
    "userinfo = {\n",
    "    'experimenter': 'DataJointTestData',  # Replace this if you want to use your own data\n",
    "    'data_dir': '/gpfs01/euler/data/Data/DataJointTestData/xy-RGCs/', # Replace this if you want to use your own data\n",
    "    'datatype_loc': 0,\n",
    "    'animal_loc': 1,\n",
    "    'region_loc': 2,\n",
    "    'field_loc': 3,\n",
    "    'stimulus_loc': 4,\n",
    "    'condition_loc': 5,\n",
    "}\n",
    "\n",
    "assert os.path.isdir(userinfo['data_dir'])"
   ],
   "metadata": {
    "collapsed": false
   }
  },
  {
   "cell_type": "code",
   "execution_count": null,
   "outputs": [],
   "source": [
    "UserInfo().upload_user(userinfo)\n",
    "UserInfo()"
   ],
   "metadata": {
    "collapsed": false
   }
  },
  {
   "cell_type": "code",
   "execution_count": null,
   "outputs": [],
   "source": [
    "RawDataParams().add_default()\n",
    "RawDataParams()"
   ],
   "metadata": {
    "collapsed": false
   }
  },
  {
   "cell_type": "markdown",
   "source": [
    "## Load data"
   ],
   "metadata": {
    "collapsed": false
   }
  },
  {
   "cell_type": "code",
   "execution_count": null,
   "outputs": [],
   "source": [
    "Experiment().rescan_filesystem(verboselvl=0)\n",
    "Experiment()"
   ],
   "metadata": {
    "collapsed": false
   }
  },
  {
   "cell_type": "code",
   "execution_count": null,
   "outputs": [],
   "source": [
    "Field().rescan_filesystem(verboselvl=0)\n",
    "Field()"
   ],
   "metadata": {
    "collapsed": false
   }
  },
  {
   "cell_type": "code",
   "execution_count": null,
   "outputs": [],
   "source": [
    "Field().populate()"
   ],
   "metadata": {
    "collapsed": false
   }
  },
  {
   "cell_type": "code",
   "execution_count": null,
   "outputs": [],
   "source": [
    "Stimulus().add_nostim(skip_duplicates=True)\n",
    "Stimulus().add_chirp(spatialextent=1000, stim_name='gChirp', alias=\"chirp_gchirp_globalchirp\", skip_duplicates=True)\n",
    "Stimulus().add_chirp(spatialextent=300, stim_name='lChirp', alias=\"lchirp_localchirp\", skip_duplicates=True)\n",
    "Stimulus().add_noise(stim_name='noise', pix_n_x=20, pix_n_y=15, pix_scale_x_um=30, pix_scale_y_um=30,\n",
    "                     skip_duplicates=True)\n",
    "Stimulus().add_movingbar(skip_duplicates=True)"
   ],
   "metadata": {
    "collapsed": false
   }
  },
  {
   "cell_type": "code",
   "execution_count": null,
   "outputs": [],
   "source": [
    "Presentation().populate(display_progress=True, processes=20)\n",
    "Presentation()"
   ],
   "metadata": {
    "collapsed": false
   }
  },
  {
   "cell_type": "code",
   "execution_count": null,
   "outputs": [],
   "source": [
    "Roi().populate(display_progress=True, processes=20)\n",
    "Roi()"
   ],
   "metadata": {
    "collapsed": false
   }
  },
  {
   "cell_type": "markdown",
   "source": [
    "## Process data"
   ],
   "metadata": {
    "collapsed": false
   }
  },
  {
   "cell_type": "code",
   "execution_count": null,
   "outputs": [],
   "source": [
    "Traces().populate(display_progress=True, processes=20)\n",
    "Traces()"
   ],
   "metadata": {
    "collapsed": false
   }
  },
  {
   "cell_type": "code",
   "execution_count": null,
   "outputs": [],
   "source": [
    "PreprocessParams().add_default()\n",
    "PreprocessParams()"
   ],
   "metadata": {
    "collapsed": false
   }
  },
  {
   "cell_type": "code",
   "execution_count": null,
   "outputs": [],
   "source": [
    "PreprocessTraces().populate(display_progress=True, processes=20)\n",
    "PreprocessTraces()"
   ],
   "metadata": {
    "collapsed": false
   }
  },
  {
   "cell_type": "code",
   "execution_count": null,
   "outputs": [],
   "source": [
    "Snippets().populate(display_progress=True, processes=20)\n",
    "Snippets()"
   ],
   "metadata": {
    "collapsed": false
   }
  },
  {
   "cell_type": "code",
   "execution_count": null,
   "outputs": [],
   "source": [
    "Averages().populate(display_progress=True, processes=20)\n",
    "Averages()"
   ],
   "metadata": {
    "collapsed": false
   }
  },
  {
   "cell_type": "code",
   "execution_count": null,
   "outputs": [],
   "source": [
    "ChirpQI().populate(display_progress=True, processes=20)\n",
    "ChirpQI()"
   ],
   "metadata": {
    "collapsed": false
   }
  },
  {
   "cell_type": "code",
   "execution_count": null,
   "outputs": [],
   "source": [
    "OsDsIndexes().populate(display_progress=True, processes=20)\n",
    "OsDsIndexes()"
   ],
   "metadata": {
    "collapsed": false
   }
  },
  {
   "cell_type": "markdown",
   "metadata": {},
   "source": [
    "# Assign cell types\n",
    "\n",
    "-1 Mean no assignment because of the quality\n",
    "\n",
    "The cell type assignment can still be uncertain, though. You should filter by confidence!"
   ]
  },
  {
   "cell_type": "code",
   "execution_count": null,
   "outputs": [],
   "source": [
    "Baden16Traces().populate(display_progress=True, processes=20)"
   ],
   "metadata": {
    "collapsed": false
   }
  },
  {
   "cell_type": "code",
   "execution_count": null,
   "metadata": {},
   "outputs": [],
   "source": [
    "CelltypeAssignment().populate(display_progress=True)\n",
    "CelltypeAssignment()"
   ]
  },
  {
   "cell_type": "code",
   "execution_count": null,
   "outputs": [],
   "source": [
    "CelltypeAssignment().plot(threshold_confidence=0.0)\n",
    "CelltypeAssignment().plot(threshold_confidence=0.25)\n",
    "CelltypeAssignment().plot(threshold_confidence=0.5)"
   ],
   "metadata": {
    "collapsed": false
   }
  },
  {
   "cell_type": "markdown",
   "source": [
    "# Clean up\n",
    "\n",
    "If you are done with the tutorial you can delete (=drop) your schema again and create a schema with a more meaningful name than `ageuler_{username}_test`."
   ],
   "metadata": {
    "collapsed": false
   }
  },
  {
   "cell_type": "code",
   "execution_count": null,
   "outputs": [],
   "source": [
    "if input(\"Continue with cleaning up? (yes/no))\") != \"yes\":\n",
    "    raise ValueError('Enter yes if you wish to continue.')\n",
    "\n",
    "schema.drop()"
   ],
   "metadata": {
    "collapsed": false
   }
  }
 ],
 "metadata": {
  "kernelspec": {
   "display_name": "Python 3 (ipykernel)",
   "language": "python",
   "name": "python3"
  },
  "language_info": {
   "codemirror_mode": {
    "name": "ipython",
    "version": 3
   },
   "file_extension": ".py",
   "mimetype": "text/x-python",
   "name": "python",
   "nbconvert_exporter": "python",
   "pygments_lexer": "ipython3",
   "version": "3.8.10"
  }
 },
 "nbformat": 4,
 "nbformat_minor": 4
}
