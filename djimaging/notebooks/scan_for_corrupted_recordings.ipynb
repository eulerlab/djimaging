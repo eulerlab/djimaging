{
 "cells": [
  {
   "cell_type": "markdown",
   "id": "97788713-57b9-4cfe-bed9-86496f2ca4ac",
   "metadata": {},
   "source": [
    "# Readme\n",
    "\n",
    "Sometimes recordings stop working after some time and the recordings stacks contain pure noise after a certain time."
   ]
  },
  {
   "metadata": {},
   "cell_type": "code",
   "source": [
    "import datajoint as dj\n",
    "import os"
   ],
   "id": "c4a531aca82df872",
   "outputs": [],
   "execution_count": null
  },
  {
   "metadata": {},
   "cell_type": "code",
   "source": [
    "username = !whoami\n",
    "username = username[0]\n",
    "username"
   ],
   "id": "31227293e205d188",
   "outputs": [],
   "execution_count": null
  },
  {
   "metadata": {},
   "cell_type": "code",
   "source": [
    "home_directory = os.path.expanduser(\"~\")\n",
    "home_directory"
   ],
   "id": "b16b005c262d0c6b",
   "outputs": [],
   "execution_count": null
  },
  {
   "metadata": {},
   "cell_type": "code",
   "source": [
    "# Set config file\n",
    "config_file = f'{home_directory}/datajoint/dj_{username}_conf.json'\n",
    "assert os.path.isfile(config_file), f'Set the path to your config file: {config_file}'"
   ],
   "id": "49b312e067096565",
   "outputs": [],
   "execution_count": null
  },
  {
   "metadata": {},
   "cell_type": "code",
   "source": "dj.config.load(config_file)",
   "id": "6c511be2de958e42",
   "outputs": [],
   "execution_count": null
  },
  {
   "metadata": {},
   "cell_type": "code",
   "source": [
    "schema_name = \"ageuler_ENTER_SCHEMA_NAME_HERE\"\n",
    "    \n",
    "schema = dj.schema(schema_name)\n",
    "schema"
   ],
   "id": "ab871dc7ad571072",
   "outputs": [],
   "execution_count": null
  },
  {
   "metadata": {},
   "cell_type": "code",
   "source": "schema.spawn_missing_classes()  # This should spawn Presentation",
   "id": "e21cc3221485ea68",
   "outputs": [],
   "execution_count": null
  },
  {
   "metadata": {},
   "cell_type": "code",
   "source": "h5_headers = Presentation().fetch('h5_header')",
   "id": "8cd85e91-7b20-4d8f-b410-c6be4d34d80a",
   "outputs": [],
   "execution_count": null
  },
  {
   "metadata": {},
   "cell_type": "markdown",
   "source": "# Find corrupted recordings",
   "id": "2f81a142-0a05-4689-a3db-0025d014a094"
  },
  {
   "cell_type": "code",
   "id": "b1a60b15-6680-45eb-9208-0067d6d5d738",
   "metadata": {},
   "source": [
    "import numpy as np\n",
    "from djimaging.utils import scanm_utils\n",
    "from tqdm.notebook import tqdm\n",
    "from matplotlib import pyplot as plt\n",
    "\n",
    "\n",
    "variances = []\n",
    "for h5_file in tqdm(h5_headers):\n",
    "    ch_stacks, wparams = scanm_utils.load_stacks_from_h5(h5_file)\n",
    "    variances.append(np.var(ch_stacks['wDataCh0'], axis=(0, 1)))\n",
    "variances = np.array(variances, dtype=object)\n",
    "\n",
    "def fun_badness_metric(var):\n",
    "    return np.minimum(np.nanmean(var[100:200]) / (np.maximum(1e-9, np.nanmean(var[-200:]))), 10)\n",
    "\n",
    "badness_metrics = np.array([fun_badness_metric(var) for var in variances])\n",
    "out_i = badness_metrics > np.mean(badness_metrics) + 3 * np.std(badness_metrics)\n",
    "\n",
    "plt.figure()\n",
    "plt.hist(badness_metrics[~out_i], fc='b', bins=np.linspace(np.min(badness_metrics), np.max(badness_metrics), 51))\n",
    "plt.hist(badness_metrics[out_i], fc='r', bins=np.linspace(np.min(badness_metrics), np.max(badness_metrics), 51))\n",
    "\n",
    "print(h5_headers[out_i])"
   ],
   "outputs": [],
   "execution_count": null
  },
  {
   "metadata": {},
   "cell_type": "markdown",
   "source": "# Plot corrupted recordings",
   "id": "a4461bc4b8a48ec1"
  },
  {
   "cell_type": "code",
   "id": "59106ca7-bdd2-46e1-ae0b-99b8f07df2c6",
   "metadata": {},
   "source": [
    "fig, axs = plt.subplots(np.sum(out_i), 4, figsize=(12, np.sum(out_i)*2))\n",
    "\n",
    "for i, h5_file in enumerate(h5_headers[out_i]):\n",
    "    ch_stacks, wparams = scanm_utils.load_stacks_from_h5(h5_file)\n",
    "    var_i = np.var(ch_stacks['wDataCh0'], axis=(0, 1))\n",
    "    bad_idx = np.argmax(var_i < 100) - 2\n",
    "    print('(\\\"', h5_file, '\\\", ', bad_idx, ')', sep='')\n",
    "    \n",
    "    im0 = np.nanmean(ch_stacks['wDataCh0'][:, :, 100:200], axis=2)\n",
    "    im1 = np.nanmean(ch_stacks['wDataCh0'][:, :, -100:], axis=2)\n",
    "    im2 = ch_stacks['wDataCh0'][:, :, bad_idx-1]\n",
    "\n",
    "    for j, imj in enumerate([im0, im1, im2]):\n",
    "        ax = axs[i, j]\n",
    "        im = ax.imshow(imj.T)\n",
    "        plt.colorbar(im, ax=ax)\n",
    "\n",
    "    ax = axs[i, -1]\n",
    "    ax.plot(variances)\n",
    "    ax.axvline(bad_idx, c='r')\n",
    "\n",
    "plt.tight_layout()"
   ],
   "outputs": [],
   "execution_count": null
  },
  {
   "cell_type": "code",
   "id": "76c83366-6f2a-4aad-ae9e-fa9f491615ff",
   "metadata": {},
   "source": [],
   "outputs": [],
   "execution_count": null
  }
 ],
 "metadata": {
  "kernelspec": {
   "display_name": "Python 3 (ipykernel)",
   "language": "python",
   "name": "python3"
  },
  "language_info": {
   "codemirror_mode": {
    "name": "ipython",
    "version": 3
   },
   "file_extension": ".py",
   "mimetype": "text/x-python",
   "name": "python",
   "nbconvert_exporter": "python",
   "pygments_lexer": "ipython3",
   "version": "3.10.12"
  }
 },
 "nbformat": 4,
 "nbformat_minor": 5
}
