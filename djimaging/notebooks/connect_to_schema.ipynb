{
 "cells": [
  {
   "metadata": {},
   "cell_type": "markdown",
   "source": [
    "# README\n",
    "\n",
    "With this notebook you can connect to your schema and check the last log entry.\n",
    "You do not require the schema definition to connect to the schema.\n",
    "You can not populate the schema with this notebook."
   ],
   "id": "4bf1d52312f2629"
  },
  {
   "cell_type": "code",
   "id": "4bc2de48-c11a-407f-aa22-f6b3ff06f37d",
   "metadata": {},
   "source": [
    "import datajoint as dj\n",
    "import os"
   ],
   "outputs": [],
   "execution_count": null
  },
  {
   "metadata": {},
   "cell_type": "code",
   "source": [
    "username = !whoami\n",
    "username = username[0]\n",
    "username"
   ],
   "id": "1994eb4e5c36644d",
   "outputs": [],
   "execution_count": null
  },
  {
   "metadata": {},
   "cell_type": "code",
   "source": [
    "home_directory = os.path.expanduser(\"~\")\n",
    "home_directory"
   ],
   "id": "d49a8a12c40cb46b",
   "outputs": [],
   "execution_count": null
  },
  {
   "metadata": {},
   "cell_type": "code",
   "source": [
    "# Set config file\n",
    "config_file = f'{home_directory}/datajoint/dj_{username}_conf.json'\n",
    "assert os.path.isfile(config_file), f'Set the path to your config file: {config_file}'"
   ],
   "id": "bde9583704a59822",
   "outputs": [],
   "execution_count": null
  },
  {
   "cell_type": "code",
   "id": "334687d1-fb84-4048-8c92-8a95eb72dfaf",
   "metadata": {},
   "source": "dj.config.load(config_file)",
   "outputs": [],
   "execution_count": null
  },
  {
   "cell_type": "code",
   "id": "794d2136-c622-49ae-b9ee-bdae34efff41",
   "metadata": {},
   "source": [
    "schema_name = \"ageuler_ENTER_SCHEMA_NAME_HERE\"\n",
    "    \n",
    "schema = dj.schema(schema_name)\n",
    "schema"
   ],
   "outputs": [],
   "execution_count": null
  },
  {
   "metadata": {},
   "cell_type": "markdown",
   "source": "# Some examples what you can do with the schema",
   "id": "494126f1376c5a8f"
  },
  {
   "cell_type": "code",
   "id": "32014bef-0b0d-49b7-803f-9391c59af294",
   "metadata": {},
   "source": [
    "schema.log"
   ],
   "outputs": [],
   "execution_count": null
  },
  {
   "cell_type": "code",
   "id": "876f6549-124b-411e-bdd0-a447cbece053",
   "metadata": {},
   "source": "schema.log.fetch(format='frame').iloc[-1]",
   "outputs": [],
   "execution_count": null
  },
  {
   "cell_type": "code",
   "id": "5dff4d90-0387-4894-85ff-101fba53208a",
   "metadata": {},
   "source": [
    "# Can first and last log timestamp\n",
    "timestamps, users = schema.log.fetch(\"timestamp\", \"user\")\n",
    "timestamps[0], timestamps[-1]"
   ],
   "outputs": [],
   "execution_count": null
  },
  {
   "cell_type": "code",
   "id": "ee6cc3ef-49a7-4f7c-86bc-c0e1e261f475",
   "metadata": {},
   "source": [
    "schema.spawn_missing_classes()"
   ],
   "outputs": [],
   "execution_count": null
  },
  {
   "cell_type": "code",
   "id": "421b8f74-f1cb-401c-b128-61436b6fa59b",
   "metadata": {},
   "source": [
    "# List all tables\n",
    "print(dir())"
   ],
   "outputs": [],
   "execution_count": null
  },
  {
   "cell_type": "code",
   "id": "0c3b5631-00fc-4866-8d0f-f24a9a759acc",
   "metadata": {},
   "source": [],
   "outputs": [],
   "execution_count": null
  }
 ],
 "metadata": {
  "kernelspec": {
   "display_name": "Python 3 (ipykernel)",
   "language": "python",
   "name": "python3"
  },
  "language_info": {
   "codemirror_mode": {
    "name": "ipython",
    "version": 3
   },
   "file_extension": ".py",
   "mimetype": "text/x-python",
   "name": "python",
   "nbconvert_exporter": "python",
   "pygments_lexer": "ipython3",
   "version": "3.11.5"
  }
 },
 "nbformat": 4,
 "nbformat_minor": 5
}
