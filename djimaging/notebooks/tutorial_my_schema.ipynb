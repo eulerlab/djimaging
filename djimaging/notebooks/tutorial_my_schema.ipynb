{
 "cells": [
  {
   "cell_type": "markdown",
   "metadata": {},
   "source": [
    "# Readme\n",
    "This is a demo notebook that shows how a personal schema is loaded and how to add data to it.\n",
    "It's also great to test how to add new tables and how this affects your pipeline.\n",
    "\n",
    "Once you are done with the tutorial, drop your schema by calling: `schema.drop()`.\n",
    "This is also described at the very end of the tutorial.\n",
    "\n",
    "If you have not installed `djimaging`, please go to project directory and install it via `pip install -e .`, see also below."
   ]
  },
  {
   "cell_type": "code",
   "execution_count": null,
   "metadata": {},
   "source": [
    "%load_ext autoreload\n",
    "%autoreload 2"
   ],
   "outputs": []
  },
  {
   "cell_type": "code",
   "execution_count": null,
   "metadata": {},
   "source": [
    "import os\n",
    "import datajoint as dj"
   ],
   "outputs": []
  },
  {
   "cell_type": "markdown",
   "metadata": {},
   "source": [
    "# Setup"
   ]
  },
  {
   "cell_type": "code",
   "execution_count": null,
   "metadata": {},
   "source": [
    "username = !whoami\n",
    "username = username[0]\n",
    "username"
   ],
   "outputs": []
  },
  {
   "cell_type": "code",
   "execution_count": null,
   "metadata": {
    "collapsed": false
   },
   "source": [
    "home_directory = os.path.expanduser(\"~\")\n",
    "home_directory"
   ],
   "outputs": []
  },
  {
   "cell_type": "code",
   "execution_count": null,
   "metadata": {},
   "source": [
    "# Path to djimaging\n",
    "path_to_djimaging = f'{home_directory}/github/eulerlab/'\n",
    "\n",
    "# Clone djimaging if you haven't downloaded it yet\n",
    "# assert os.isdir(path_to_djimaging), 'Create target folder before cloning djimaging'\n",
    "# !cd {path_to_djimaging} && git clone git@github.com:eulerlab/djimaging.git\n",
    "\n",
    "# Install djimaging if not done yet\n",
    "# assert os.isdir(os.path.join(path_to_djimaging, 'djimaging')), 'Create target folder before cloning djimaging'\n",
    "# !cd {path_to_djimaging}/djimaging/ && sudo pip install -e ."
   ],
   "outputs": []
  },
  {
   "cell_type": "markdown",
   "metadata": {},
   "source": [
    "# Data Base"
   ]
  },
  {
   "cell_type": "markdown",
   "metadata": {},
   "source": [
    "## Prepare dj config"
   ]
  },
  {
   "cell_type": "code",
   "execution_count": null,
   "metadata": {},
   "source": [
    "# Set config file\n",
    "config_file = f'{home_directory}/datajoint/dj_{username}_conf.json'\n",
    "assert os.path.isfile(config_file), f'Set the path to your config file: {config_file}'"
   ],
   "outputs": []
  },
  {
   "cell_type": "code",
   "execution_count": null,
   "metadata": {},
   "source": [
    "# Define a schema name or use the default name for your personal test schema\n",
    "# It should start with ageuler and have some meaningful name after that\n",
    "schema_name = f\"ageuler_{username}_test\""
   ],
   "outputs": []
  },
  {
   "cell_type": "code",
   "execution_count": null,
   "metadata": {},
   "source": [
    "# Do you want to use the RGC classifier?\n",
    "# If so, make sure to add the respective tables into your schema.\n",
    "use_rgc_classifier = True\n",
    "\n",
    "if use_rgc_classifier:  # Define any existing outputfolder for the classifier to be saved\n",
    "    output_folder = f'{home_directory}/datajoint/rgc_classifier'\n",
    "    assert os.path.isdir(output_folder), f'Set path to output directory: {output_folder}'"
   ],
   "outputs": []
  },
  {
   "cell_type": "code",
   "execution_count": null,
   "metadata": {},
   "source": [
    "# Load configuration for user\n",
    "dj.config.load(config_file)\n",
    "dj.config['schema_name'] = schema_name\n",
    "\n",
    "if use_rgc_classifier:\n",
    "    from djimaging.tables.classifier.rgc_classifier import prepare_dj_config_rgc_classifier\n",
    "    prepare_dj_config_rgc_classifier(output_folder)\n",
    "\n",
    "print(\"schema_name:\", dj.config['schema_name'])\n",
    "dj.conn()"
   ],
   "outputs": []
  },
  {
   "cell_type": "markdown",
   "metadata": {},
   "source": [
    "## Create or load schema"
   ]
  },
  {
   "cell_type": "code",
   "execution_count": null,
   "metadata": {},
   "source": [
    "# Import your own schema, which defines the tables you will have in your database and how they are connected.\n",
    "from djimaging.schemas.tutorial_schema import *"
   ],
   "outputs": []
  },
  {
   "cell_type": "code",
   "execution_count": null,
   "metadata": {},
   "source": [
    "if use_rgc_classifier:\n",
    "    try:\n",
    "        CelltypeAssignment()\n",
    "    except Exception as e:\n",
    "        import warnings\n",
    "        warnings.warn(\"\"\"\n",
    "            If you want to include the RGC classifier in your database, you have to copy the respective tables from \n",
    "            djimaging/schemas/full_rgc_schema.py \n",
    "            to the schema you just imported (see above).\n",
    "            Then restart the notebook and try again.\n",
    "            \"\"\")"
   ],
   "outputs": []
  },
  {
   "cell_type": "markdown",
   "metadata": {},
   "source": [
    "## Important note\n",
    "\n",
    "If the schema with the name `schema_name = f\"ageuler_{username}_test\"` already exists, it is important that the schema definition here is the same as it was when the schema was created.\n",
    "If you did the other tutorial first, and did not delete (=drop) the schema afterwards, this will not be the case, for example.\n",
    "Then you already have a schema with the same name but different tables, the first being based on the schema `rgc_classifier_schema`, and this one being based on `my_schema`. This can result in a variety of problems, so you either have to change the schema name here or drop the old schema first.\n",
    "\n",
    "Outside of this tutorial, in most cases, you want exactly one schema per project to never run into this problem."
   ]
  },
  {
   "cell_type": "code",
   "execution_count": null,
   "metadata": {},
   "source": [
    "from djimaging.utils.dj_utils import activate_schema\n",
    "\n",
    "activate_schema(schema=schema, create_schema=True, create_tables=True)\n",
    "schema"
   ],
   "outputs": []
  },
  {
   "cell_type": "markdown",
   "metadata": {},
   "source": [
    "# ERD"
   ]
  },
  {
   "cell_type": "code",
   "execution_count": null,
   "metadata": {},
   "source": [
    "import warnings\n",
    "\n",
    "with warnings.catch_warnings():\n",
    "    warnings.simplefilter(\"ignore\", FutureWarning)\n",
    "    display(dj.ERD(schema))"
   ],
   "outputs": []
  },
  {
   "cell_type": "markdown",
   "metadata": {},
   "source": [
    "## Upload user"
   ]
  },
  {
   "cell_type": "code",
   "execution_count": null,
   "metadata": {},
   "source": [
    "userinfo = {\n",
    "    'experimenter': 'TestUser', # Replace this if you want to use your own data\n",
    "    'data_dir': '/gpfs01/euler/data/Data/DataJointTestData/xy-RGCs/', # Replace this if you want to use your own data\n",
    "    'datatype_loc': 0,\n",
    "    'animal_loc': 1,\n",
    "    'region_loc': 2,\n",
    "    'field_loc': 3,\n",
    "    'stimulus_loc': 4,\n",
    "    'cond1_loc': 5,\n",
    "    'cond2_loc': 6,\n",
    "    'cond3_loc': 7,\n",
    "}\n",
    "\n",
    "assert os.path.isdir(userinfo['data_dir'])"
   ],
   "outputs": []
  },
  {
   "cell_type": "code",
   "execution_count": null,
   "metadata": {},
   "source": [
    "UserInfo().upload_user(userinfo)\n",
    "UserInfo()"
   ],
   "outputs": []
  },
  {
   "cell_type": "code",
   "execution_count": null,
   "metadata": {
    "collapsed": false
   },
   "source": [
    "# Plot the data files in the selected folder\n",
    "UserInfo().plot1(key=None, show_pre=False, show_raw=False, show_header=True)"
   ],
   "outputs": []
  },
  {
   "cell_type": "code",
   "execution_count": null,
   "metadata": {
    "collapsed": false
   },
   "source": [
    "RawDataParams().add_default()\n",
    "RawDataParams()"
   ],
   "outputs": []
  },
  {
   "cell_type": "markdown",
   "metadata": {},
   "source": [
    "## Populate data"
   ]
  },
  {
   "cell_type": "markdown",
   "metadata": {},
   "source": [
    "### Experiments"
   ]
  },
  {
   "cell_type": "code",
   "execution_count": null,
   "metadata": {},
   "source": [
    "Experiment().rescan_filesystem(verboselvl=2)\n",
    "Experiment()"
   ],
   "outputs": []
  },
  {
   "cell_type": "markdown",
   "metadata": {},
   "source": [
    "### Fields"
   ]
  },
  {
   "cell_type": "code",
   "execution_count": null,
   "metadata": {},
   "source": [
    "Field().rescan_filesystem(verboselvl=2)"
   ],
   "outputs": []
  },
  {
   "cell_type": "code",
   "source": [
    "Field()"
   ],
   "metadata": {
    "collapsed": false
   },
   "execution_count": null,
   "outputs": []
  },
  {
   "cell_type": "code",
   "execution_count": null,
   "metadata": {
    "collapsed": false
   },
   "source": [
    "# If you call plot1 on a djimaging table, it will plot the given key.\n",
    "# If you pass key=None or no key it will pick a key at random.\n",
    "# This is implemented for most core tables and can be useful to get a quick impression of the data.\n",
    "Field().plot1(key=None)"
   ],
   "outputs": []
  },
  {
   "cell_type": "markdown",
   "metadata": {},
   "source": [
    "### Stimuli"
   ]
  },
  {
   "cell_type": "markdown",
   "metadata": {},
   "source": [
    "#### Add default stimuli"
   ]
  },
  {
   "cell_type": "code",
   "execution_count": null,
   "metadata": {
    "collapsed": false
   },
   "source": [
    "# To compute receptive fields, the noise stimulus trace must be loaded and set!\n",
    "import h5py\n",
    "\n",
    "with h5py.File(\"/gpfs01/euler/data/Resources/Stimulus/noise.h5\", \"r\") as f:\n",
    "    noise_stimulus = f['stimulusarray'][:].T.astype(int)"
   ],
   "outputs": []
  },
  {
   "cell_type": "code",
   "execution_count": null,
   "metadata": {},
   "source": [
    "Stimulus().add_nostim(skip_duplicates=True)\n",
    "Stimulus().add_chirp(spatialextent=1000, stim_name='gChirp', alias=\"chirp_gchirp_globalchirp\", skip_duplicates=True)\n",
    "Stimulus().add_chirp(spatialextent=300, stim_name='lChirp', alias=\"lchirp_localchirp\", skip_duplicates=True)\n",
    "Stimulus().add_noise(stim_name='noise', pix_n_x=20, pix_n_y=15, pix_scale_x_um=30, pix_scale_y_um=30, stim_trace=noise_stimulus, skip_duplicates=True)\n",
    "Stimulus().add_movingbar(skip_duplicates=True)"
   ],
   "outputs": []
  },
  {
   "cell_type": "code",
   "execution_count": null,
   "metadata": {
    "collapsed": false
   },
   "source": [
    "# Add custom stimulus if needed\n",
    "# Stimulus().add_stimulus(stim_name='my_stimulus', alias=\"stimname_stimnameabbr_alternativename\", isrepeated=True, ntrigger_rep=6,\n",
    "#                         trial_info=[1, 2, 3, 4, 5, 6], skip_duplicates=True)"
   ],
   "outputs": []
  },
  {
   "cell_type": "code",
   "execution_count": null,
   "metadata": {},
   "source": [
    "Stimulus()"
   ],
   "outputs": []
  },
  {
   "cell_type": "markdown",
   "metadata": {},
   "source": [
    "#### Presentations"
   ]
  },
  {
   "cell_type": "code",
   "execution_count": null,
   "metadata": {},
   "source": [
    "Presentation().populate(processes=20, display_progress=True)"
   ],
   "outputs": []
  },
  {
   "cell_type": "code",
   "source": [
    "Presentation()"
   ],
   "metadata": {
    "collapsed": false
   },
   "execution_count": null,
   "outputs": []
  },
  {
   "cell_type": "code",
   "execution_count": null,
   "metadata": {
    "collapsed": false
   },
   "source": [
    "Presentation().plot1(key=None)"
   ],
   "outputs": []
  },
  {
   "cell_type": "markdown",
   "source": [
    "# AutoROIs\n",
    "\n",
    "Skip/delete this if you don't want to use AutoROIs."
   ],
   "metadata": {
    "collapsed": false
   }
  },
  {
   "cell_type": "code",
   "execution_count": null,
   "source": [
    "# If you have save some of you AutoROIs ROI masks you can load them here.\n",
    "RoiMask().rescan_filesystem(verboselvl=2)\n",
    "RoiMask()"
   ],
   "metadata": {
    "collapsed": false
   },
   "outputs": []
  },
  {
   "cell_type": "code",
   "execution_count": null,
   "source": [
    "# Find all the fields that still require a ROI mask.\n",
    "missing_fields = RoiMask().list_missing_field()"
   ],
   "metadata": {
    "collapsed": false
   },
   "outputs": []
  },
  {
   "cell_type": "code",
   "execution_count": null,
   "source": [
    "field_key = missing_fields.pop()  # Pick one field\n",
    "\n",
    "# Load ROI canvas, draw the ROI mask, clean it if you want, shift if you want.\n",
    "# You can then save it to a file to be able to load it again later.\n",
    "roi_canvas = RoiMask().draw_roi_mask(field_key=field_key, canvas_width=30)\n",
    "roi_canvas.start_gui()"
   ],
   "metadata": {
    "collapsed": false
   },
   "outputs": []
  },
  {
   "cell_type": "code",
   "source": [
    "# Load the just saved ROI mask\n",
    "RoiMask().rescan_filesystem(verboselvl=2)"
   ],
   "metadata": {
    "collapsed": false
   },
   "execution_count": null,
   "outputs": []
  },
  {
   "cell_type": "code",
   "execution_count": null,
   "source": [
    "RoiMask().plot1()"
   ],
   "metadata": {
    "collapsed": false
   },
   "outputs": []
  },
  {
   "cell_type": "markdown",
   "metadata": {},
   "source": [
    "# Rois"
   ]
  },
  {
   "cell_type": "code",
   "execution_count": null,
   "metadata": {
    "collapsed": false
   },
   "source": [
    "Roi().populate(processes=20, display_progress=True)\n",
    "Roi()"
   ],
   "outputs": []
  },
  {
   "cell_type": "code",
   "execution_count": null,
   "metadata": {
    "collapsed": false
   },
   "source": [
    "Roi().plot1(key=None)"
   ],
   "outputs": []
  },
  {
   "cell_type": "markdown",
   "metadata": {},
   "source": [
    "### Traces"
   ]
  },
  {
   "cell_type": "code",
   "execution_count": null,
   "metadata": {},
   "source": [
    "Traces().populate(processes=20, display_progress=True)\n",
    "Traces()"
   ],
   "outputs": []
  },
  {
   "cell_type": "code",
   "execution_count": null,
   "metadata": {},
   "source": [
    "PreprocessParams().add_default(skip_duplicates=True)\n",
    "PreprocessParams()"
   ],
   "outputs": []
  },
  {
   "cell_type": "code",
   "execution_count": null,
   "metadata": {},
   "source": [
    "PreprocessTraces().populate(processes=20, display_progress=True)\n",
    "PreprocessTraces()"
   ],
   "outputs": []
  },
  {
   "cell_type": "code",
   "execution_count": null,
   "metadata": {
    "collapsed": false
   },
   "source": [
    "PreprocessTraces().plot1(key=None)"
   ],
   "outputs": []
  },
  {
   "cell_type": "code",
   "execution_count": null,
   "metadata": {},
   "source": [
    "Snippets().populate(processes=20, display_progress=True)\n",
    "Snippets()"
   ],
   "outputs": []
  },
  {
   "cell_type": "code",
   "execution_count": null,
   "metadata": {
    "collapsed": false
   },
   "source": [
    "Snippets().plot1(key=None)"
   ],
   "outputs": []
  },
  {
   "cell_type": "code",
   "execution_count": null,
   "metadata": {},
   "source": [
    "Averages().populate(processes=20, display_progress=True)\n",
    "Averages()"
   ],
   "outputs": []
  },
  {
   "cell_type": "code",
   "execution_count": null,
   "metadata": {
    "collapsed": false
   },
   "source": [
    "Averages().plot({\"stim_name\": \"gChirp\"})"
   ],
   "outputs": []
  },
  {
   "cell_type": "markdown",
   "metadata": {},
   "source": [
    "## Quality and statistics"
   ]
  },
  {
   "cell_type": "code",
   "execution_count": null,
   "metadata": {},
   "source": [
    "ChirpQI().populate(display_progress=True, processes=20)\n",
    "ChirpQI()"
   ],
   "outputs": []
  },
  {
   "cell_type": "code",
   "execution_count": null,
   "metadata": {},
   "source": [
    "OsDsIndexes().populate(display_progress=True, processes=20)\n",
    "OsDsIndexes()"
   ],
   "outputs": []
  },
  {
   "cell_type": "markdown",
   "metadata": {},
   "source": [
    "## Recording location"
   ]
  },
  {
   "cell_type": "code",
   "execution_count": null,
   "metadata": {},
   "source": [
    "OpticDisk().populate(processes=20, display_progress=True)\n",
    "OpticDisk()"
   ],
   "outputs": []
  },
  {
   "cell_type": "code",
   "execution_count": null,
   "metadata": {},
   "source": [
    "RelativeFieldLocation().populate(processes=20, display_progress=True)\n",
    "RelativeFieldLocation()"
   ],
   "outputs": []
  },
  {
   "cell_type": "code",
   "execution_count": null,
   "metadata": {},
   "source": [
    "RelativeFieldLocation().plot()"
   ],
   "outputs": []
  },
  {
   "cell_type": "code",
   "execution_count": null,
   "metadata": {},
   "source": [
    "RetinalFieldLocation().populate(processes=20, display_progress=True)\n",
    "RetinalFieldLocation()"
   ],
   "outputs": []
  },
  {
   "cell_type": "code",
   "execution_count": null,
   "metadata": {
    "collapsed": false
   },
   "source": [
    "RetinalFieldLocation().plot()"
   ],
   "outputs": []
  },
  {
   "cell_type": "markdown",
   "metadata": {
    "tags": []
   },
   "source": [
    "# RGC Classifier\n",
    "\n",
    "Skip/delete this is you don't want to use the RGC classifier"
   ]
  },
  {
   "cell_type": "code",
   "execution_count": null,
   "metadata": {},
   "source": [
    "try:\n",
    "    CelltypeAssignment()\n",
    "except Exception as e:\n",
    "    import warnings\n",
    "    warnings.warn(\"\"\"\n",
    "        If you want to include the RGC classifier in your database, you have to copy the respective tables from \n",
    "        djimaging/schemas/rgc_classifier_schema.py \n",
    "        to the schema you just imported (see above).\n",
    "        Then restart the notebook and try again.\n",
    "        \"\"\")"
   ],
   "outputs": []
  },
  {
   "cell_type": "markdown",
   "metadata": {},
   "source": [
    "### Add classifier method"
   ]
  },
  {
   "cell_type": "code",
   "execution_count": null,
   "metadata": {},
   "source": [
    "ClassifierMethod().add_default(skip_duplicates=True)\n",
    "ClassifierMethod()"
   ],
   "outputs": []
  },
  {
   "cell_type": "markdown",
   "metadata": {},
   "source": [
    "## Add training data"
   ]
  },
  {
   "cell_type": "code",
   "execution_count": null,
   "metadata": {},
   "source": [
    "ClassifierTrainingData().add_default(skip_duplicates=True)\n",
    "ClassifierTrainingData()"
   ],
   "outputs": []
  },
  {
   "cell_type": "markdown",
   "metadata": {},
   "source": [
    "## Train classifier"
   ]
  },
  {
   "cell_type": "code",
   "execution_count": null,
   "metadata": {},
   "source": [
    "Classifier().populate()\n",
    "Classifier()"
   ],
   "outputs": []
  },
  {
   "cell_type": "markdown",
   "metadata": {},
   "source": [
    "## Assign RGC types"
   ]
  },
  {
   "cell_type": "code",
   "execution_count": null,
   "metadata": {
    "collapsed": false
   },
   "source": [
    "Baden16Traces().populate(display_progress=True, processes=20)"
   ],
   "outputs": []
  },
  {
   "cell_type": "code",
   "execution_count": null,
   "metadata": {},
   "source": [
    "CelltypeAssignment().populate(display_progress=True)\n",
    "CelltypeAssignment()"
   ],
   "outputs": []
  },
  {
   "cell_type": "code",
   "execution_count": null,
   "metadata": {
    "collapsed": false
   },
   "source": [
    "CelltypeAssignment().plot(threshold_confidence=0.0)\n",
    "CelltypeAssignment().plot(threshold_confidence=0.25)\n",
    "CelltypeAssignment().plot(threshold_confidence=0.5)"
   ],
   "outputs": []
  },
  {
   "cell_type": "markdown",
   "metadata": {},
   "source": [
    "# Clean up\n",
    "\n",
    "If you are done with the tutorial you can delete (=drop) your schema again and create a schema with a more meaningful name than `ageuler_{username}_test`."
   ]
  },
  {
   "cell_type": "code",
   "execution_count": null,
   "metadata": {
    "collapsed": false
   },
   "source": [
    "if input(\"Continue with cleaning up? (yes/no))\") != \"yes\":\n",
    "    raise ValueError('Enter yes if you wish to continue.')\n",
    "\n",
    "schema.drop()"
   ],
   "outputs": []
  },
  {
   "cell_type": "code",
   "execution_count": null,
   "metadata": {},
   "source": [],
   "outputs": []
  }
 ],
 "metadata": {
  "kernelspec": {
   "display_name": "Python 3 (ipykernel)",
   "language": "python",
   "name": "python3"
  },
  "language_info": {
   "codemirror_mode": {
    "name": "ipython",
    "version": 3
   },
   "file_extension": ".py",
   "mimetype": "text/x-python",
   "name": "python",
   "nbconvert_exporter": "python",
   "pygments_lexer": "ipython3",
   "version": "3.8.10"
  }
 },
 "nbformat": 4,
 "nbformat_minor": 4
}
